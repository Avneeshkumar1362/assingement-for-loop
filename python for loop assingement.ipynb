{
 "cells": [
  {
   "cell_type": "markdown",
   "id": "542d107a-ea08-4d7e-adf0-f150bd898fbc",
   "metadata": {},
   "source": [
    "#                                              ***Assingement questions*** :\n",
    "\n",
    "\n",
    "-----\n",
    "\n",
    "-----\n",
    "\n",
    "\n",
    "\n",
    "# **Basic level** :\n",
    "-------------"
   ]
  },
  {
   "cell_type": "markdown",
   "id": "916747f3-e972-4c62-b607-d9334c9d77fa",
   "metadata": {},
   "source": [
    " ## 1. Write a Python program to print the numbers from 1 to 10 using a `for` loop."
   ]
  },
  {
   "cell_type": "code",
   "execution_count": 7,
   "id": "29d258bd-40f5-4fd7-b682-9663f0809f7b",
   "metadata": {},
   "outputs": [
    {
     "name": "stdout",
     "output_type": "stream",
     "text": [
      "1\n",
      "2\n",
      "3\n",
      "4\n",
      "5\n",
      "6\n",
      "7\n",
      "8\n",
      "9\n",
      "10\n"
     ]
    }
   ],
   "source": [
    "## we use the for loop .\n",
    "## use the range function .\n",
    "\n",
    "for i in range(1,11):\n",
    "    print(i)"
   ]
  },
  {
   "cell_type": "markdown",
   "id": "85e103eb-0f30-4b71-8775-691835d27f58",
   "metadata": {},
   "source": [
    "- use the for loop to eterate through i .\n",
    "- use the `range(1,10)`function to print the numbers from 1 to 10.\n",
    "- use the print() statement to print the numbers . "
   ]
  },
  {
   "cell_type": "markdown",
   "id": "c7b1c1a8-8b16-41c6-9f84-a3106df66503",
   "metadata": {},
   "source": [
    "## 2. Create a program that calculates the sum of all numbers in a list using a `for` loop."
   ]
  },
  {
   "cell_type": "code",
   "execution_count": 8,
   "id": "46fafdf1-d23e-400c-bb93-2d2ba4bb4c80",
   "metadata": {},
   "outputs": [
    {
     "name": "stdout",
     "output_type": "stream",
     "text": [
      "36\n"
     ]
    }
   ],
   "source": [
    "## create the list \n",
    "\n",
    "l = [1,2,3,4,5,6,7,8]\n",
    "\n",
    "# create varible to store data\n",
    "\n",
    "result = 0\n",
    "\n",
    "# use the for loop \n",
    "\n",
    "for i in l :\n",
    "    result = result+i\n",
    "print(result)"
   ]
  },
  {
   "cell_type": "markdown",
   "id": "f054082a-fb0f-44dd-b6ec-ed5d84bfcab1",
   "metadata": {},
   "source": [
    "- first we create the list that contains some integer data that we want to sum of data.\n",
    "- we create the result variable to store the data .\n",
    "- we use the for loop to iterate the data through i one by one .\n",
    "- `result = result+i`: we use this function to sum of all elements inside the list .\n",
    "- we use the print() statements to print the sum of data .."
   ]
  },
  {
   "cell_type": "markdown",
   "id": "8cd473b6-1bad-4799-9a90-ae6abe110582",
   "metadata": {},
   "source": [
    "## 3. Write a program to print the characters of a string in reverse order using a `for` loop."
   ]
  },
  {
   "cell_type": "code",
   "execution_count": 9,
   "id": "19878949-c126-4033-b754-aee5d857bef9",
   "metadata": {},
   "outputs": [
    {
     "name": "stdout",
     "output_type": "stream",
     "text": [
      "sllikswp\n"
     ]
    }
   ],
   "source": [
    "def reverse(string):\n",
    "    revstr=\"\"\n",
    "    for i in string:\n",
    "        revstr=i+revstr\n",
    "    return revstr\n",
    "string = \"pwskills\"\n",
    "print(reverse(string))"
   ]
  },
  {
   "cell_type": "markdown",
   "id": "af7d7063-5f10-40c8-b26d-f9cd76be4825",
   "metadata": {},
   "source": [
    "- we create the reverse function name reverse() ,inside this we store the string.\n",
    "- we create a variable name revstr to stor the reverse string .\n",
    "- we use the for loop .\n",
    "- inside the for loop we write the `revstr=i+revstr` to reverse the string.\n",
    "- we return the revstr \n",
    "- we writen the string that we want to reverse it .\n",
    "- we print the reverse string writing by the print() statements ."
   ]
  },
  {
   "cell_type": "markdown",
   "id": "621f3a1e-7278-4874-b564-bb576809b8e1",
   "metadata": {},
   "source": [
    " # 4. Develop a program that finds the factorial of a given number using a `for` loop."
   ]
  },
  {
   "cell_type": "code",
   "execution_count": 5,
   "id": "f5a14a86-4773-4d2b-b1dd-ed5d59b3bf5a",
   "metadata": {},
   "outputs": [],
   "source": [
    "\n",
    "# create the funtion \n",
    "def fact_numbeer(n): \n",
    "    a= 1\n",
    "      \n",
    "    # use the  for loop \n",
    "    for i in range(1,n+1):\n",
    "        a= i*a\n",
    "    return a\n",
    "    "
   ]
  },
  {
   "cell_type": "code",
   "execution_count": 6,
   "id": "ab5aa092-f2d8-4357-b889-31c98fd22a69",
   "metadata": {},
   "outputs": [
    {
     "data": {
      "text/plain": [
       "120"
      ]
     },
     "execution_count": 6,
     "metadata": {},
     "output_type": "execute_result"
    }
   ],
   "source": [
    "fact_numbeer(5)"
   ]
  },
  {
   "cell_type": "markdown",
   "id": "ffbbb3b2-9fe4-4278-8767-e7be84bb406c",
   "metadata": {},
   "source": [
    " - we craate the function name fact_number(n).\n",
    " - inside the function we create a variable name a to store the iterable data inside the a .\n",
    " - we return a \n",
    " - we call the fact_number() and gives number inside the fact_number that we want to find the factorial of number "
   ]
  },
  {
   "cell_type": "markdown",
   "id": "df4c9cf5-926a-4f5a-a3e1-18f534517851",
   "metadata": {},
   "source": [
    "# 5. Create a program to print the multiplication table of a given number using a `for` loop."
   ]
  },
  {
   "cell_type": "code",
   "execution_count": 122,
   "id": "ef3a2ab5-64d8-4122-9836-bc2c4eea2429",
   "metadata": {},
   "outputs": [
    {
     "name": "stdout",
     "output_type": "stream",
     "text": [
      "1 2 3 4 5 6 7 8 9 10 \n",
      "2 4 6 8 10 12 14 16 18 20 \n",
      "3 6 9 12 15 18 21 24 27 30 \n",
      "4 8 12 16 20 24 28 32 36 40 \n",
      "5 10 15 20 25 30 35 40 45 50 \n",
      "6 12 18 24 30 36 42 48 54 60 \n",
      "7 14 21 28 35 42 49 56 63 70 \n",
      "8 16 24 32 40 48 56 64 72 80 \n",
      "9 18 27 36 45 54 63 72 81 90 \n",
      "10 20 30 40 50 60 70 80 90 100 \n"
     ]
    }
   ],
   "source": [
    "\n",
    "# create a nested for loop \n",
    "\n",
    "for i in range (1,11):\n",
    "    \n",
    "    for j in range(1,11):\n",
    "        \n",
    "        print(i*j,end=\" \")\n",
    "    print()\n",
    "        "
   ]
  },
  {
   "cell_type": "markdown",
   "id": "5bbf21d4-c994-484a-b29d-bab931843e4e",
   "metadata": {},
   "source": [
    "- we use the nested for loop for the multipliction of list .\n",
    "- we use the range() function to multiply data from 1 to 10.\n",
    "- we use the `print(i*j,end=\" \")`:to multiply data of list i and list j ,`end=\" \"`: use this to assign the data in one row .\n",
    "- we use print() statements to assing data of i and j in seprate row ."
   ]
  },
  {
   "cell_type": "markdown",
   "id": "c531ef87-9a16-4a96-a56f-31d989c935fd",
   "metadata": {},
   "source": [
    "# 6. Write a program that counts the number of even and odd numbers in a list using a `for` loop."
   ]
  },
  {
   "cell_type": "code",
   "execution_count": 60,
   "id": "be820d74-926e-4970-9e97-bf9e16375452",
   "metadata": {},
   "outputs": [
    {
     "data": {
      "text/plain": [
       "[2, 4, 6, 8]"
      ]
     },
     "execution_count": 60,
     "metadata": {},
     "output_type": "execute_result"
    }
   ],
   "source": [
    "l = [1,2,3,4,5,6,7,9,8]\n",
    "def count_even(b):\n",
    "    l1=[]\n",
    "    for i in b:\n",
    "        if i%2==0:\n",
    "            l1.append(i)\n",
    "    return(l1)\n",
    "count_even(l)\n",
    "\n"
   ]
  },
  {
   "cell_type": "markdown",
   "id": "68de1edf-cdb7-4a94-ac4c-82e82f1c8342",
   "metadata": {},
   "source": [
    "- we create the list that we want to count the evn_numbers\n",
    "- we creat the function name count_even() ,inside the function we write the own logic that we wnt to perform .\n",
    "- we create the empty variable name l1 to store the even numbers .\n",
    "- we use the for loop inside the for loop we gives a condition if `i%2==0:`:if condition will be true then appennd the the even number of data inside the l1.\n",
    "- we call the count_even(l) to print the data ."
   ]
  },
  {
   "cell_type": "code",
   "execution_count": 57,
   "id": "2221107f-71ec-47bf-afe6-3252a1dc4962",
   "metadata": {},
   "outputs": [
    {
     "data": {
      "text/plain": [
       "[1, 3, 5, 7, 9]"
      ]
     },
     "execution_count": 57,
     "metadata": {},
     "output_type": "execute_result"
    }
   ],
   "source": [
    "l = [1,2,3,4,5,6,7,9,8]\n",
    "def count_odd(b):\n",
    "    l1=[]\n",
    "    for i in b:\n",
    "        if i%2!=0:\n",
    "            l1.append(i)\n",
    "    return(l1)\n",
    "count_odd(l)"
   ]
  },
  {
   "cell_type": "markdown",
   "id": "bad7790d-61a7-46ca-bc70-cad75c4c923a",
   "metadata": {},
   "source": [
    "- we create the list that we want to count the odd_numbers\n",
    "- we creat the function name count_odd() ,inside the function we write the own logic that we wnt to perform .\n",
    "- we create the empty variable name l1 to store the odd numbers .\n",
    "- we use the for loop ,inside the for loop we gives a condition if `i%2==0:`:if condition will be true then appennd the the even number of data inside the l1.\n",
    "- we call the count_odd(l) to print the data ."
   ]
  },
  {
   "cell_type": "markdown",
   "id": "d93b4e10-4bea-4a6a-adf8-ca7ca65ec464",
   "metadata": {},
   "source": [
    " # 7. Develop a program that prints the squares of numbers from 1 to 5 using a `for` loop."
   ]
  },
  {
   "cell_type": "code",
   "execution_count": 12,
   "id": "c2f65fde-1dfd-46d4-ab18-c6caf01e4ca1",
   "metadata": {},
   "outputs": [
    {
     "name": "stdout",
     "output_type": "stream",
     "text": [
      "1\n",
      "4\n",
      "9\n",
      "16\n",
      "25\n"
     ]
    }
   ],
   "source": [
    "for i in range(1,6):\n",
    "    print(i**2)"
   ]
  },
  {
   "cell_type": "markdown",
   "id": "9a9929a4-29ae-4b00-b6fc-6270da2cb812",
   "metadata": {},
   "source": [
    "- we use the for loop eterate through i in range 1 to 5 with the help of range() function .\n",
    "- `print(i**2)`: use this method to print the squere of numbers that eterate through for loop ."
   ]
  },
  {
   "cell_type": "markdown",
   "id": "408ade10-fcc6-4e24-98eb-3e4816b06cb0",
   "metadata": {},
   "source": [
    " # 8. Create a program to find the length of a string without using the `len()` function."
   ]
  },
  {
   "cell_type": "code",
   "execution_count": 20,
   "id": "6fbd4ba3-54e2-406a-b457-ed27c275a6ac",
   "metadata": {},
   "outputs": [
    {
     "data": {
      "text/plain": [
       "8"
      ]
     },
     "execution_count": 20,
     "metadata": {},
     "output_type": "execute_result"
    }
   ],
   "source": [
    "string = \"pwskills\"\n",
    "\n",
    "def length_string(s):\n",
    "    if s==\"\":\n",
    "        return 0\n",
    "    else :\n",
    "        return 1+length_string(s[1::])\n",
    "    \n",
    "    \n",
    "length_string(string)"
   ]
  },
  {
   "cell_type": "markdown",
   "id": "ecc4b39b-4c35-4455-91a9-93dc8fedf95d",
   "metadata": {},
   "source": [
    "- first of all we try to use the recurrsion method to find the length of the string .\n",
    "- we create the length function functaion name length_string(s): with the help of def .\n",
    "- we write the condition over here if string is empty then return zero .( if s==\"\":return 0).\n",
    "- we use the else statement in this else statement we use the recurrsion so that find the length of string - `( return 1+length_string(s[1::]))`.\n",
    "- we call the ` length_string(string) `:and this function return the length of the string."
   ]
  },
  {
   "cell_type": "markdown",
   "id": "c8c1e8b6-a422-47f3-b58d-71600798f655",
   "metadata": {},
   "source": [
    "# 9. Write a program that calculates the average of a list of numbers using a `for` loop."
   ]
  },
  {
   "cell_type": "code",
   "execution_count": 2,
   "id": "37b6d5d4-dbe4-43c0-b06f-fcfc79c4229d",
   "metadata": {},
   "outputs": [
    {
     "name": "stdin",
     "output_type": "stream",
     "text": [
      "Enter the number of elements to be inserted:  4\n",
      "Enter element:  10\n",
      "Enter element:  20\n",
      "Enter element:  30\n",
      "Enter element:  40\n"
     ]
    },
    {
     "name": "stdout",
     "output_type": "stream",
     "text": [
      "Average of elements in the list 25.0\n"
     ]
    }
   ],
   "source": [
    "n=int(input(\"Enter the number of elements to be inserted: \"))\n",
    "a=[]\n",
    "for i in range(0,n):\n",
    "    element=int(input(\"Enter element: \"))\n",
    "    a.append(element)\n",
    "avg=sum(a)/n\n",
    "print(\"Average of elements in the list\",round(avg,2))"
   ]
  },
  {
   "cell_type": "markdown",
   "id": "47b802d4-6d79-4b4c-9787-80ffc1f49692",
   "metadata": {},
   "source": [
    "- we ask the user number of elements that he want to average of element.\n",
    "- we create the empty list .\n",
    "- The value of I ranges from 0 to the number of elements and is incremented each time after the body of the loop is executed.\n",
    "- then the element that user intered in the variable element.\n",
    "- `a.append(element)`: append the element to the list.\n",
    "- the new value enterd by the user for the next loop iteration is now stored in element which is append to the list.\n",
    "- the loop runs till the value of i reaches n \n",
    "- sum(a) gives the total sum of all the elements in the list and dividing it by the total number of elements gives the average of elements in the list.\n",
    "- round(avg,2) rounds the average upto 2 decimal places.\n",
    "- Then the average is printed after rounding."
   ]
  },
  {
   "cell_type": "markdown",
   "id": "6abd5555-80e5-4c67-8e7e-8e80e7493c5e",
   "metadata": {},
   "source": [
    "# 10. Develop a program that prints the first `n` Fibonacci numbers using a `for` loop."
   ]
  },
  {
   "cell_type": "code",
   "execution_count": 14,
   "id": "56d54006-7342-4b94-b389-d0afea332967",
   "metadata": {},
   "outputs": [
    {
     "name": "stdin",
     "output_type": "stream",
     "text": [
      "Enter the number of terms:  10\n"
     ]
    },
    {
     "name": "stdout",
     "output_type": "stream",
     "text": [
      "0 1 1 2 3 5 8 13 21 34 "
     ]
    }
   ],
   "source": [
    "#python program for fibonacci series using for loop\n",
    "n=int(input(\"Enter the number of terms: \"))\n",
    "a=0\n",
    "b=1\n",
    "if n<=0:\n",
    "    print(\"The Output of your input is\",a)\n",
    "else:\n",
    "    print(a,b,end=\" \")\n",
    "    for x in range(2,n):\n",
    "        c=a+b\n",
    "        print(c,end=\" \")\n",
    "        a=b\n",
    "        b=c"
   ]
  },
  {
   "cell_type": "markdown",
   "id": "06acbfbb-5fb4-4a35-baa3-c92e2edd38b1",
   "metadata": {},
   "source": [
    "- `n=int(input(\"Enter the number of terms: \"))`: we use this function to ask the user enter the number of terms .\n",
    "- we create variable a=0 and b=1.\n",
    "- we use the if statement if n is less than or equal to zero then print zero.\n",
    "- we use the else statements in this statements we use the for loop and range function .\n",
    "- we assine the value of c=a+b.\n"
   ]
  },
  {
   "cell_type": "markdown",
   "id": "cbdd7609-3f44-4915-ab44-d1aca1b75287",
   "metadata": {},
   "source": [
    "# **Intermediate Level:**"
   ]
  },
  {
   "cell_type": "markdown",
   "id": "b86a45e7-a46d-46d2-b851-a0b3d9107075",
   "metadata": {},
   "source": [
    " # 11. Write a program to check if a given list contains any duplicates using a `for` loop."
   ]
  },
  {
   "cell_type": "code",
   "execution_count": 38,
   "id": "d1eab49b-a597-4ab5-beff-231e0ee7bd85",
   "metadata": {},
   "outputs": [
    {
     "name": "stdout",
     "output_type": "stream",
     "text": [
      "yes list contains duplicate numbers,duplicate numbers in list: [1, 4, 5]\n"
     ]
    }
   ],
   "source": [
    "\n",
    "list = [1,2,3,4,5,5,4,5,17,1,1,9]\n",
    " \n",
    "duplicate_list = []  \n",
    " \n",
    "for i in list:\n",
    "    n = list.count(i)\n",
    "    \n",
    "    if n > 1:\n",
    " \n",
    "        if duplicate_list.count(i) == 0:  \n",
    "           duplicate_list.append(i)\n",
    " \n",
    "print(\"yes list contains duplicate numbers,duplicate numbers in list:\",duplicate_list)\n",
    " "
   ]
  },
  {
   "cell_type": "code",
   "execution_count": null,
   "id": "2bce728a-f443-4a6b-9a15-ea50fe8367c4",
   "metadata": {},
   "outputs": [],
   "source": []
  },
  {
   "cell_type": "markdown",
   "id": "931e225e-fc2e-43a9-a033-5dce477f3268",
   "metadata": {},
   "source": [
    "# 12. Create a program that prints the prime numbers in a given range using a `for` loop."
   ]
  },
  {
   "cell_type": "code",
   "execution_count": 4,
   "id": "f9fa8a84-2bfd-4efd-9681-a2ecb469f775",
   "metadata": {},
   "outputs": [
    {
     "name": "stdin",
     "output_type": "stream",
     "text": [
      "enter the lowest range value  1\n",
      "enter the upper range value 10\n"
     ]
    },
    {
     "name": "stdout",
     "output_type": "stream",
     "text": [
      "2\n",
      "3\n",
      "5\n",
      "7\n"
     ]
    }
   ],
   "source": [
    "lower_value=int(input(\"enter the lowest range value \"))\n",
    "upper_value =int(input(\"enter the upper range value\"))\n",
    "\n",
    "\n",
    "for number in range(lower_value,upper_value):\n",
    "    if number >1:\n",
    "        for i in range(2,number):\n",
    "            if number%i==0:\n",
    "                break\n",
    "        else:\n",
    "            print (number) "
   ]
  },
  {
   "cell_type": "markdown",
   "id": "24149ec1-1d20-45a8-b325-5972030c25ac",
   "metadata": {},
   "source": [
    "- loop through all the elements in the given range .\n",
    "- check for each number if it has any number factor B/W 1 and iteself .\n",
    "- if yes then the number is not prime and it will move to the next number .\n",
    "- if no , it is a prime number ,and the program will print it and check for the next number .\n",
    "- loop is break when it reach to the upper value ."
   ]
  },
  {
   "cell_type": "markdown",
   "id": "7107b45b-0dbe-44ba-b0ce-222f3fe95f97",
   "metadata": {},
   "source": [
    "# 13. Develop a program that counts the number of vowels in a string using a `for` loop."
   ]
  },
  {
   "cell_type": "code",
   "execution_count": 15,
   "id": "83130fa7-421c-4fff-8613-1f5ad341cdeb",
   "metadata": {},
   "outputs": [
    {
     "name": "stdin",
     "output_type": "stream",
     "text": [
      "enter the string that we want to check aveesh kumar\n"
     ]
    },
    {
     "name": "stdout",
     "output_type": "stream",
     "text": [
      "vowels in string is: ['a', 'e', 'e', 'a']\n"
     ]
    }
   ],
   "source": [
    "vowels=[\"a\",\"e\",\"i\",\"o\",\"A\",\"E\",\"I\",\"O\"]\n",
    "\n",
    "string = input(\"enter the string that we want to check\")\n",
    "\n",
    "check_vowels =[string[i] for i in range(len(string)) if string[i] in vowels]\n",
    "\n",
    "\n",
    "print (\"vowels in string is:\",check_vowels)"
   ]
  },
  {
   "cell_type": "markdown",
   "id": "e699bbde-bb01-4298-b28f-b2fc0df8c7c4",
   "metadata": {},
   "source": [
    "- we create the vowels list both small and caps vowels that we want to count in string .\n",
    "- we use the input() function to ask the string to user that he want to count the vowels .\n",
    "- we use the list comprehension to counts the numbers of vowels.\n",
    "- we use the print statements to print the vowels."
   ]
  },
  {
   "cell_type": "markdown",
   "id": "41a58ae5-b12d-4d26-b2bc-acbd270d762e",
   "metadata": {},
   "source": [
    " # 14. Write a program to find the maximum element in a 2D list using a nested `for` loop."
   ]
  },
  {
   "cell_type": "code",
   "execution_count": 37,
   "id": "631783d0-7429-478e-9936-609fd7690871",
   "metadata": {},
   "outputs": [
    {
     "name": "stdout",
     "output_type": "stream",
     "text": [
      "504\n"
     ]
    }
   ],
   "source": [
    " \n",
    "def prod(lis):\n",
    "    maxi = 0\n",
    "    for x in lis:\n",
    "       \n",
    "        p = 1\n",
    "\n",
    "        for i in x:\n",
    "            p*= i\n",
    "            maxi = max(p, maxi)\n",
    "    return maxi\n",
    " \n",
    "todo_list= [[1, 2, 3], [4, 5, 6], [7, 8, 9]]\n",
    "print(prod(l))\n"
   ]
  },
  {
   "cell_type": "markdown",
   "id": "a1401b87-0655-44e2-a314-4ab16be73eaf",
   "metadata": {},
   "source": [
    "- we create the function ,function name prod(),inside the function we write the conditions .\n",
    "- we use the nested for loop to find the maximum element in a 2D list using for loop .\n",
    "- we create the todo_list that we want to find the maximum elements in a 2D list.\n",
    "- we use the print statements to print the maximum element in a 2D list.\n"
   ]
  },
  {
   "cell_type": "markdown",
   "id": "5685ec49-d8de-4eb7-8319-78e7bc1f6554",
   "metadata": {},
   "source": [
    "# 15. Create a program that removes all occurrences of a specific element from a list using a `for` loop."
   ]
  },
  {
   "cell_type": "code",
   "execution_count": 11,
   "id": "4f0c500e-f990-4907-9ed7-3cfd0dac9584",
   "metadata": {},
   "outputs": [
    {
     "name": "stdout",
     "output_type": "stream",
     "text": [
      "original list: [10, 2, 10, 1, 42, 56, 10, 52, 10, 45, 7, 8, 10]\n",
      "list after removing all the occurencess of a specific element: [2, 1, 42, 56, 52, 45, 7, 8]\n"
     ]
    }
   ],
   "source": [
    "my_list=[10,2,10,1,42,56,10,52,10,45,7,8,10]\n",
    "\n",
    "n=10\n",
    "print(\"original list:\",my_list) \n",
    "for i in my_list:\n",
    "    if i ==n:\n",
    "        my_list.remove(n)\n",
    "    \n",
    "print(\"list after removing all the occurencess of a specific element:\",my_list)"
   ]
  },
  {
   "cell_type": "markdown",
   "id": "44c00fe7-ae18-4027-a53a-f45e4da420a0",
   "metadata": {},
   "source": [
    "- we create the list over here that we want to remove all the occurencess of a specific element from a list .\n",
    "- we store the specific occurece that we want to remove in the variable n.\n",
    "- we use the for loop to loop through all the elements of the my_list.\n",
    "- inside the for loop we create the condition if i==n then remove the n from my_list.\n",
    "- we use the print statements to print the value of removing all the occurencess of a specific element."
   ]
  },
  {
   "cell_type": "markdown",
   "id": "89dc5697-c26b-4b6a-89c0-a8c38de29034",
   "metadata": {},
   "source": [
    "# 16. Develop a program that generates a multiplication table for numbers from 1 to 5 using a nested `for` loop."
   ]
  },
  {
   "cell_type": "code",
   "execution_count": 17,
   "id": "b3748fb6-44d2-49be-aaaa-997ad3011ae7",
   "metadata": {},
   "outputs": [
    {
     "name": "stdout",
     "output_type": "stream",
     "text": [
      "1 2 3 4 5 \n",
      "2 4 6 8 10 \n",
      "3 6 9 12 15 \n",
      "4 8 12 16 20 \n",
      "5 10 15 20 25 \n",
      "6 12 18 24 30 \n",
      "7 14 21 28 35 \n",
      "8 16 24 32 40 \n",
      "9 18 27 36 45 \n",
      "10 20 30 40 50 \n"
     ]
    }
   ],
   "source": [
    "\n",
    "# create a nested for loop \n",
    "\n",
    "for i in range (1,11):\n",
    "    \n",
    "    for j in range(1,6):\n",
    "        \n",
    "        print(i*j,end=\" \")\n",
    "    print()\n",
    "        "
   ]
  },
  {
   "cell_type": "markdown",
   "id": "9010721d-dc21-4db7-8018-8f9174d64df8",
   "metadata": {},
   "source": [
    "- we use the nested for loop for the multipliction of list .\n",
    "- we use the range() function to multiply data from 1 to 11.\n",
    "- we use the `print(i*j,end=\" \")`:to multiply data of list i and list j ,`end=\" \"`: use this to assign the data in one row .\n",
    "- we use print() statements to assing data of i and j in seprate row ."
   ]
  },
  {
   "cell_type": "markdown",
   "id": "d9ce9617-071a-4cec-83bc-c15133f1d66a",
   "metadata": {},
   "source": [
    " # 17. Write a program that converts a list of Fahrenheit temperatures to Celsius using a `for` loop."
   ]
  },
  {
   "cell_type": "code",
   "execution_count": null,
   "id": "b9903000-c8fb-43a2-9904-01cd7a19b369",
   "metadata": {},
   "outputs": [],
   "source": []
  },
  {
   "cell_type": "markdown",
   "id": "8f0b4e96-44e2-4af4-9764-44f2a69f1b1b",
   "metadata": {},
   "source": [
    " # 18. Create a program to print the common elements from two lists using a `for` loop."
   ]
  },
  {
   "cell_type": "code",
   "execution_count": 16,
   "id": "c49bb16e-11cb-44e6-87af-c9c38263877c",
   "metadata": {},
   "outputs": [
    {
     "name": "stdout",
     "output_type": "stream",
     "text": [
      " common elemnet inside the list1 and list2 is : 1\n",
      " common elemnet inside the list1 and list2 is : 2\n",
      "not a common element inside the list: 3\n",
      "not a common element inside the list: 4\n",
      " common elemnet inside the list1 and list2 is : 5\n",
      "not a common element inside the list: 6\n"
     ]
    }
   ],
   "source": [
    "list1=[1,2,3,4,5,6]\n",
    "list2=[1,2,5,8,7,9]\n",
    "\n",
    "for i in list1:\n",
    "    if i in list2:\n",
    "        print(\" common elemnet inside the list1 and list2 is :\",i)\n",
    "    else:\n",
    "        print(\"not a common element inside the list:\",i)\n"
   ]
  },
  {
   "cell_type": "markdown",
   "id": "655fdff3-edc8-445a-8749-3e348ab4595c",
   "metadata": {},
   "source": [
    "- we create a two list name list1 and list2 contains some integer data .\n",
    "- we use the for loop to iterate data through list 1 and inside the for loop we craete the condition `if i in list `: if this condition is true then print the common element inside the list1 and list2 else print the not a common element inside the list. "
   ]
  },
  {
   "cell_type": "markdown",
   "id": "9f6ad186-e9d3-42df-9ce4-4c17fd47fac7",
   "metadata": {},
   "source": [
    " # 19. Develop a program that prints the pattern of right-angled triangles using a `for` loop. Use ‘*’ to draw the pattern."
   ]
  },
  {
   "cell_type": "code",
   "execution_count": 25,
   "id": "1d1d8ea4-8827-472b-af8a-7dcdb71291c1",
   "metadata": {},
   "outputs": [
    {
     "name": "stdout",
     "output_type": "stream",
     "text": [
      " * \n",
      " *  * \n",
      " *  *  * \n",
      " *  *  *  * \n",
      " *  *  *  *  * \n"
     ]
    }
   ],
   "source": [
    "for i in range(5):\n",
    "    for j in range(i+1):\n",
    "        print(\" * \",end=\"\")\n",
    "    print()"
   ]
  },
  {
   "cell_type": "markdown",
   "id": "dc043013-a97b-4554-871a-3fe7c84a195e",
   "metadata": {},
   "source": [
    "- we create the right angle trangle by the using of nested for loop .\n"
   ]
  },
  {
   "cell_type": "markdown",
   "id": "48b72c8d-f8d7-4020-ae08-5d062c80ab0d",
   "metadata": {},
   "source": [
    " # 20. Write a program to find the greatest common divisor (GCD) of two numbers using a `for` loop."
   ]
  },
  {
   "cell_type": "code",
   "execution_count": 27,
   "id": "8a2e14b7-de24-4ae3-bc43-1b5b80dd1a23",
   "metadata": {},
   "outputs": [
    {
     "name": "stdin",
     "output_type": "stream",
     "text": [
      "enter the first number  44\n",
      "enter the second number 888\n"
     ]
    },
    {
     "name": "stdout",
     "output_type": "stream",
     "text": [
      "\n",
      "HCF of 44 and 888=4\n"
     ]
    }
   ],
   "source": [
    "num1=int(input(\"enter the first number \"))\n",
    "num2=int(input(\"enter the second number\"))\n",
    "for i in range (1,min(num1,num2)+1):\n",
    "    if num1%i==0 and num2%i==0:\n",
    "        result=i\n",
    "print(\"\\nHCF of {0} and {1}={2}\".format(num1,num2,result))"
   ]
  },
  {
   "cell_type": "code",
   "execution_count": 1,
   "id": "dd26aaf6-e015-4aee-a4d1-cf97d303dda1",
   "metadata": {},
   "outputs": [
    {
     "name": "stdin",
     "output_type": "stream",
     "text": [
      "First  :  44\n",
      "Second :  888\n"
     ]
    },
    {
     "name": "stdout",
     "output_type": "stream",
     "text": [
      "4\n"
     ]
    }
   ],
   "source": [
    "num1 = int(input(\"First  : \"))\n",
    "num2 = int(input(\"Second : \"))\n",
    "\n",
    "for i in range(1, min(num1, num2)+1):\n",
    "    if num1 % i == 0 and num2 % i == 0:\n",
    "        result = i\n",
    "\n",
    "print(result)"
   ]
  },
  {
   "cell_type": "markdown",
   "id": "d0c82dfb-3e8d-4f70-bc1d-d7a285ce4667",
   "metadata": {},
   "source": [
    "- we ask the user two input first and second that he want to find the gratest divisiver b/W first and secomd .\n",
    "- we use the for loop iterate through all the elements from 1 to num1 and num2 given by the user .\n",
    "- we check the num%i  and num2%i is equal to zero then i stored in the  variable result .\n",
    "- we use the print statements to print the value of gratest common divisiver ."
   ]
  },
  {
   "cell_type": "markdown",
   "id": "40a6d124-8efa-43cb-a17d-85af9b8b09ee",
   "metadata": {},
   "source": [
    "# ***Advanced level*** :"
   ]
  },
  {
   "cell_type": "markdown",
   "id": "7f1fd534-d149-497a-b566-d218b6fcfa7e",
   "metadata": {},
   "source": [
    " # 21. Create a program that calculates the sum of the digits of numbers in a list using a list comprehension."
   ]
  },
  {
   "cell_type": "code",
   "execution_count": 5,
   "id": "1b20bc07-85db-4273-a299-1f4b07147f69",
   "metadata": {},
   "outputs": [
    {
     "data": {
      "text/plain": [
       "29"
      ]
     },
     "execution_count": 5,
     "metadata": {},
     "output_type": "execute_result"
    }
   ],
   "source": [
    "## create the list of elements .\n",
    "\n",
    "\n",
    "my_list = [1,2,3,4,5,6,8]\n",
    "\n",
    "\n",
    "## use the list comprehinsion .\n",
    "sum([i for i in my_list])\n"
   ]
  },
  {
   "cell_type": "markdown",
   "id": "fc0ea13b-89f9-4ca7-9193-8a8810dd8613",
   "metadata": {},
   "source": [
    "- first of all we create the list that contains some elements that we want to some of numbers .\n",
    "- we use the list comprehension for the sum of the numbers ."
   ]
  },
  {
   "cell_type": "markdown",
   "id": "301ba2c1-e13c-41cf-a188-20a3f01a9b5c",
   "metadata": {},
   "source": [
    " # 22. Write a program to find the prime factors of a given number using a `for` loop and list comprehension."
   ]
  },
  {
   "cell_type": "code",
   "execution_count": 1,
   "id": "7774e00e-905b-4ed4-913d-6ec787e2466b",
   "metadata": {},
   "outputs": [
    {
     "name": "stdout",
     "output_type": "stream",
     "text": [
      "3 5 7 3\n"
     ]
    }
   ],
   "source": [
    "# Using anonymous function\n",
    "prime_factors = lambda n: [i for i in range(2, n+1) if n%i == 0 and all(i % j != 0 for j in range(2, int(i**0.5)+1))]\n",
    "n = 315\n",
    "factors = []\n",
    "while n > 1:\n",
    "    for factor in prime_factors(n):\n",
    "        factors.append(factor)\n",
    "        n //= factor\n",
    "print(*factors)"
   ]
  },
  {
   "cell_type": "code",
   "execution_count": 3,
   "id": "981f1af4-6f50-4929-a053-016b0425a37e",
   "metadata": {},
   "outputs": [
    {
     "name": "stdout",
     "output_type": "stream",
     "text": [
      "3 3 5 7 "
     ]
    }
   ],
   "source": [
    "def primeFactors(n):\n",
    "\tspf = [0 for i in range(n+1)]\n",
    "\tspf[1] = 1\n",
    "\tfor i in range(2, n+1):\n",
    "\t\tspf[i] = i\n",
    "\tfor i in range(4, n+1, 2):\n",
    "\t\tspf[i] = 2\n",
    "\n",
    "\tfor i in range(3, int(n**0.5)+1):\n",
    "\t\tif spf[i] == i:\n",
    "\t\t\tfor j in range(i*i, n+1, i):\n",
    "\t\t\t\tif spf[j] == j:\n",
    "\t\t\t\t\tspf[j] = i\n",
    "\t\t\t\t\t\n",
    "\twhile n != 1:\n",
    "\t\tprint(spf[n], end=\" \")\n",
    "\t\tn = n // spf[n]\n",
    "\n",
    "# example usage\n",
    "n = 315\n",
    "primeFactors(n)\n"
   ]
  },
  {
   "cell_type": "markdown",
   "id": "752aff14-a543-4745-b652-5eab94a93951",
   "metadata": {},
   "source": [
    "# 23. Develop a program that extracts unique elements from a list and stores them in a new list using a lis  comprehension."
   ]
  },
  {
   "cell_type": "code",
   "execution_count": 6,
   "id": "90755973-f97a-4672-ad3d-111081bf7124",
   "metadata": {},
   "outputs": [
    {
     "name": "stdout",
     "output_type": "stream",
     "text": [
      "[1, 2, 3, 4, 5, 6]\n"
     ]
    }
   ],
   "source": [
    "from functools import reduce\n",
    " \n",
    "def unique(list1):\n",
    " \n",
    "    # Print directly by using * symbol\n",
    "    ans = reduce(lambda re, x: re+[x] if x not in re else re, list1, [])\n",
    "    print(ans)\n",
    "unique([1,1,2,2,3,3,4,4,5,6])"
   ]
  },
  {
   "cell_type": "code",
   "execution_count": null,
   "id": "b5fde121-8b87-4e7f-b771-7b3a306288d3",
   "metadata": {},
   "outputs": [],
   "source": []
  },
  {
   "cell_type": "markdown",
   "id": "98aca5e7-1f94-438d-a64b-bee15af5a195",
   "metadata": {},
   "source": [
    "# 24. Create a program that generates a list of all palindromic numbers up to a specified limit using a list  comprehension."
   ]
  },
  {
   "cell_type": "code",
   "execution_count": null,
   "id": "0e0d277e-17c2-40ea-941c-29f53b8fe094",
   "metadata": {},
   "outputs": [],
   "source": []
  },
  {
   "cell_type": "markdown",
   "id": "d4066a26-2755-4d69-a137-7c19885a1fb8",
   "metadata": {},
   "source": [
    " # 25. Write a program to flatten a nested list using list comprehension."
   ]
  },
  {
   "cell_type": "code",
   "execution_count": 21,
   "id": "be2df66d-59ed-4052-a11a-e7b8bb3fce99",
   "metadata": {},
   "outputs": [
    {
     "name": "stdout",
     "output_type": "stream",
     "text": [
      "[1, 2, 3, 4, 5, 6, 7, 8, 9]\n"
     ]
    }
   ],
   "source": [
    "my_list=[[1],[2,3,4],[5,6,7,8,9]]\n",
    "\n",
    "flat_list=[num for sublist in my_list for num in sublist]\n",
    "print(flat_list)"
   ]
  },
  {
   "cell_type": "markdown",
   "id": "c593a8c5-6701-47b7-a982-5dbcd1728df0",
   "metadata": {},
   "source": [
    "- using the list comprehension acess the sublist from my_list then acess each element of the sublist.\n",
    "- each eleement number stored in the flat_list."
   ]
  },
  {
   "cell_type": "markdown",
   "id": "42c0f366-c2e7-4c6c-aa5d-612a76472836",
   "metadata": {},
   "source": [
    "# 26. Develop a program that computes the sum of even and odd numbers in a list separately using list comprehension ."
   ]
  },
  {
   "cell_type": "code",
   "execution_count": 8,
   "id": "2a15c8ee-5ab0-420d-9cfc-282ead7dc2be",
   "metadata": {},
   "outputs": [
    {
     "name": "stdout",
     "output_type": "stream",
     "text": [
      "sum of even number in my_list is: 30\n",
      "sum of odd number in my_list is : 25\n"
     ]
    }
   ],
   "source": [
    "my_list =[1,2,3,4,5,6,7,8,9,10]\n",
    "\n",
    "\n",
    "even_num=[num for num in my_list if num%2==0]\n",
    "odd_num=[num for num in my_list if num%2!=0]\n",
    "\n",
    "even_no_sum=sum(even_num)\n",
    "odd_num_sum =sum(odd_num)\n",
    "print(\"sum of even number in my_list is:\",even_no_sum)\n",
    "\n",
    "print(\"sum of odd number in my_list is :\",odd_num_sum)"
   ]
  },
  {
   "cell_type": "markdown",
   "id": "4cecf516-99d9-437f-8551-e3ab09e162b6",
   "metadata": {},
   "source": [
    "- first of all we create the list that we want to sum of the odd and even numbers  .\n",
    "- we use the list comprehension to sum of the even numbers and odd numbers .\n",
    "- use the print statements to print the even and numbers both sepretely ."
   ]
  },
  {
   "cell_type": "markdown",
   "id": "cf3e5984-8936-45b2-b562-eb876dff052b",
   "metadata": {},
   "source": [
    "# 27. Create a program that generates a list of squares of odd numbers between 1 and 10 using list comprehension."
   ]
  },
  {
   "cell_type": "code",
   "execution_count": 21,
   "id": "5d3f45ac-2a5e-4aa1-b8d6-6c241819ddc6",
   "metadata": {},
   "outputs": [
    {
     "name": "stdout",
     "output_type": "stream",
     "text": [
      "[1, 9, 25, 49, 81]\n"
     ]
    }
   ],
   "source": [
    "list_of_squere_of_odd_num=[i*i for i in range(10) if i%2!=0 ]\n",
    "\n",
    "\n",
    "print(list_of_squere_of_odd_num)"
   ]
  },
  {
   "cell_type": "markdown",
   "id": "8103a98d-c083-4772-8e0b-cb4ca08be573",
   "metadata": {},
   "source": [
    "- we use the list comprehension to squre of odd numbers b/w 1 to 10.\n",
    "- use the print statement to print the squre of odd numbers ."
   ]
  },
  {
   "cell_type": "markdown",
   "id": "9872d4b1-196e-4e71-88de-d755f811577f",
   "metadata": {},
   "source": [
    "#  28. Write a program that combines two lists into a dictionary using list comprehension."
   ]
  },
  {
   "cell_type": "code",
   "execution_count": 32,
   "id": "dad11ee5-0d24-4a03-945f-011aebce58fe",
   "metadata": {},
   "outputs": [
    {
     "name": "stdout",
     "output_type": "stream",
     "text": [
      "{'name': 'avneesh', 'mobile_num': 7607241362, 'class': 'data science masters'}\n"
     ]
    }
   ],
   "source": [
    "list1=[\"name\",\"mobile_num\" ,\"class\"]\n",
    "list2=[\"avneesh\",7607241362,\"data science masters\"]\n",
    "\n",
    "combines_list ={k:v for k,v in  zip(list1,list2 )}\n",
    "\n",
    "print(combines_list)"
   ]
  },
  {
   "cell_type": "markdown",
   "id": "b3da68be-4fbe-4e1d-9128-60cc5609b185",
   "metadata": {},
   "source": [
    "- we create two list that we want to combines into a dictionary.\n",
    "- we use the list comprehension to combine the list1 and list2 into dictionary.\n",
    "\n",
    "- use the print statements to print the combine_list."
   ]
  },
  {
   "cell_type": "markdown",
   "id": "ba4ddc60-8945-4195-9c85-3f195183dc86",
   "metadata": {},
   "source": [
    "# 29. Develop a program that extracts the vowels from a string and stores them in a list using list comprehension."
   ]
  },
  {
   "cell_type": "code",
   "execution_count": 33,
   "id": "2ee24930-df33-4b63-baf5-961fd56f58d9",
   "metadata": {},
   "outputs": [
    {
     "name": "stdin",
     "output_type": "stream",
     "text": [
      "enter the string that we want to check avneesh\n"
     ]
    },
    {
     "name": "stdout",
     "output_type": "stream",
     "text": [
      "vowels in string is: ['a', 'e', 'e']\n"
     ]
    }
   ],
   "source": [
    "vowels=[\"a\",\"e\",\"i\",\"o\",\"A\",\"E\",\"I\",\"O\"]\n",
    "\n",
    "string = input(\"enter the string that we want to check\")\n",
    "\n",
    "check_vowels =[string[i] for i in range(len(string)) if string[i] in vowels]\n",
    "\n",
    "\n",
    "print (\"vowels in string is:\",check_vowels)"
   ]
  },
  {
   "cell_type": "markdown",
   "id": "9a634747-75e0-40ea-94df-3682e2f658c8",
   "metadata": {},
   "source": [
    "- we create the vowels list both small and caps vowels that we want to count in string .\n",
    "- we use the input() function to ask the string to user that he want to count the vowels .\n",
    "- we use the list comprehension to counts the numbers of vowels.\n",
    "- we use the print statements to print the vowels."
   ]
  },
  {
   "cell_type": "markdown",
   "id": "1406a463-c2ba-4bb6-b109-e430693d0c14",
   "metadata": {},
   "source": [
    "# 30. Create a program that removes all non-numeric characters from a list of strings using list comprehension."
   ]
  },
  {
   "cell_type": "code",
   "execution_count": 38,
   "id": "28409de5-1bac-4f15-a70d-91bb9957edac",
   "metadata": {},
   "outputs": [
    {
     "name": "stdout",
     "output_type": "stream",
     "text": [
      "['14 88', ' 545 55']\n"
     ]
    }
   ],
   "source": [
    "my_list=[\"avneesh \",\"14 88\",\"sudh 26 445 2\",\"sizzy\",\" 545 55\"]\n",
    "\n",
    "remove_all_non_numeric=[elem for elem in my_list if not any(c.isalpha() for c in elem)]\n",
    "\n",
    "print(remove_all_non_numeric)"
   ]
  },
  {
   "cell_type": "markdown",
   "id": "ef29be60-56d6-49b0-8660-b059a2c186ae",
   "metadata": {},
   "source": [
    "- we create the list of numeric and non numberic both data type is contains this list.\n",
    "- we use the list comprehension to remove the all non numeric data type .\n",
    "- we use the print statements to print the numeric data type."
   ]
  },
  {
   "cell_type": "markdown",
   "id": "2ef6b19e-2cd0-45e0-b2b5-c5076c1d0038",
   "metadata": {},
   "source": [
    "-----\n",
    "\n",
    "\n",
    "\n",
    "\n",
    "\n",
    "# ***Challenge Level***:\n",
    "\n",
    "\n",
    "\n",
    "----\n",
    "-----"
   ]
  },
  {
   "cell_type": "markdown",
   "id": "65bd6071-cf35-41f2-ba39-dcf8188272b5",
   "metadata": {},
   "source": [
    "# 31. Write a program to generate a list of prime numbers using the Sieve of Eratosthenes algorithm and list  comprehension."
   ]
  },
  {
   "cell_type": "code",
   "execution_count": 3,
   "id": "e16a0231-d62e-4b16-8299-664673f4835c",
   "metadata": {},
   "outputs": [
    {
     "name": "stdout",
     "output_type": "stream",
     "text": [
      "Following are the prime numbers smaller\n",
      "than or equal to 30\n",
      "2\n",
      "3\n",
      "5\n",
      "7\n",
      "11\n",
      "13\n",
      "17\n",
      "19\n",
      "23\n",
      "29\n"
     ]
    }
   ],
   "source": [
    "\n",
    "# Python program to print all Primes Smaller \n",
    "# than or equal to N using Sieve of Eratosthenes\n",
    " \n",
    " \n",
    "def SieveOfEratosthenes(num):\n",
    "    prime = [True for i in range(num+1)]\n",
    "# boolean array\n",
    "    p = 2\n",
    "    while (p * p <= num):\n",
    " \n",
    "        # If prime[p] is not\n",
    "        # changed, then it is a prime\n",
    "        if (prime[p] == True):\n",
    " \n",
    "            # Updating all multiples of p\n",
    "            for i in range(p * p, num+1, p):\n",
    "                prime[i] = False\n",
    "        p += 1\n",
    " \n",
    "    # Print all prime numbers\n",
    "    for p in range(2, num+1):\n",
    "        if prime[p]:\n",
    "            print(p)\n",
    " \n",
    " \n",
    "# Driver code\n",
    "if __name__ == '__main__':\n",
    "    num = 30\n",
    "    print(\"Following are the prime numbers smaller\"),\n",
    "    print(\"than or equal to\", num)\n",
    "    SieveOfEratosthenes(num)"
   ]
  },
  {
   "cell_type": "markdown",
   "id": "50bf44bb-2dd8-41e8-a50a-35a2d2251768",
   "metadata": {},
   "source": [
    "# 32. Create a program that generates a list of all Pythagorean triplets up to a specified limit using list  comprehension."
   ]
  },
  {
   "cell_type": "code",
   "execution_count": 4,
   "id": "552be050-13c6-46f1-a9f1-65e0c19e6ce6",
   "metadata": {},
   "outputs": [
    {
     "name": "stdin",
     "output_type": "stream",
     "text": [
      "Enter the value of n:  5\n"
     ]
    },
    {
     "name": "stdout",
     "output_type": "stream",
     "text": [
      "[(3, 4, 5)]\n"
     ]
    }
   ],
   "source": [
    "n = int(input('Enter the value of n: '))\n",
    "print([(a, b, c) for a in range(1, n + 1) for b in range(a, n + 1)\n",
    "       for c in range(b, n + 1) if a**2 + b**2 == c**2])"
   ]
  },
  {
   "cell_type": "markdown",
   "id": "5ad87ec3-dac5-432c-ba31-a28201db46bc",
   "metadata": {},
   "source": [
    "- first of all we ask the user input that he want to find of the triplet ."
   ]
  },
  {
   "cell_type": "markdown",
   "id": "73358d14-e7ba-441a-bd43-d7cbc661dd4c",
   "metadata": {},
   "source": [
    "#  33. Develop a program that generates a list of all possible combinations of two lists using list comprehension."
   ]
  },
  {
   "cell_type": "code",
   "execution_count": 5,
   "id": "c7d9626d-3ed0-4bbd-b994-72c664ea04d6",
   "metadata": {},
   "outputs": [
    {
     "name": "stdout",
     "output_type": "stream",
     "text": [
      "The original lists are : [1, 3, 4] [6, 7, 9] [8, 10, 5]\n",
      "All possible permutations are : [[1, 6, 8], [1, 6, 10], [1, 6, 5], [1, 7, 8], [1, 7, 10], [1, 7, 5], [1, 9, 8], [1, 9, 10], [1, 9, 5], [3, 6, 8], [3, 6, 10], [3, 6, 5], [3, 7, 8], [3, 7, 10], [3, 7, 5], [3, 9, 8], [3, 9, 10], [3, 9, 5], [4, 6, 8], [4, 6, 10], [4, 6, 5], [4, 7, 8], [4, 7, 10], [4, 7, 5], [4, 9, 8], [4, 9, 10], [4, 9, 5]]\n"
     ]
    }
   ],
   "source": [
    "# initializing lists\n",
    "list1 = [1, 3, 4]\n",
    "list2 = [6, 7, 9]\n",
    "list3 = [8, 10, 5]\n",
    " \n",
    "# printing lists\n",
    "print (\"The original lists are : \" + str(list1) +\n",
    "                            \" \" + str(list2) +\n",
    "                            \" \" + str(list3))\n",
    " \n",
    "# using list comprehension\n",
    "# to compute all possible permutations\n",
    "res = [[i, j, k] for i in list1\n",
    "                for j in list2\n",
    "                for k in list3]\n",
    " \n",
    "# printing result\n",
    "print (\"All possible permutations are : \" + str(res))"
   ]
  },
  {
   "cell_type": "markdown",
   "id": "5fae6790-4347-44c7-bb3c-894d7df06b1d",
   "metadata": {},
   "source": [
    "# 34. Write a program that calculates the mean, median, and mode of a list of numbers using list comprehension."
   ]
  },
  {
   "cell_type": "code",
   "execution_count": 6,
   "id": "d4937b03-d258-4ee8-b0c3-5dca7e557282",
   "metadata": {},
   "outputs": [
    {
     "name": "stdout",
     "output_type": "stream",
     "text": [
      "The mode of a number is / are: 2\n"
     ]
    }
   ],
   "source": [
    "from collections import Counter\n",
    "numb = [2, 3, 4, 5, 7, 2]\n",
    "no = len(numb)\n",
    "val = Counter(numb)\n",
    "findMode = dict(val)\n",
    "mode = [i for i, v in findMode.items() if v == max(list(val.values()))]  \n",
    "if len(mode) == no:\n",
    "    findMode = \"The group of number do not have any mode\"\n",
    "else:\n",
    "    findMode = \"The mode of a number is / are: \" + ', '.join(map(str, mode))\n",
    "print(findMode)"
   ]
  },
  {
   "cell_type": "code",
   "execution_count": 7,
   "id": "92a976c5-2566-49c8-866e-ccee630dc9ce",
   "metadata": {},
   "outputs": [
    {
     "name": "stdout",
     "output_type": "stream",
     "text": [
      "The median of the given numbers  ( [2, 4, 5, 8, 9] ) is 5\n"
     ]
    }
   ],
   "source": [
    "numb = [2, 4, 5, 8, 9]\n",
    "no = len(numb)\n",
    "numb.sort()\n",
    "if no % 2 == 0:\n",
    "    median1 = numb[no//2]\n",
    "    median2 = numb[no//2 - 1]\n",
    "    median = (median1 + median2)/2\n",
    "else:\n",
    "    median = numb[no//2]\n",
    "print(\"The median of the given numbers  (\", numb, \") is\", str(median))"
   ]
  },
  {
   "cell_type": "code",
   "execution_count": 8,
   "id": "9737c1e5-accb-4580-ae12-6e6ce49cc430",
   "metadata": {},
   "outputs": [
    {
     "name": "stdout",
     "output_type": "stream",
     "text": [
      "The mean or average of all these numbers ( [2, 3, 5, 7, 8] ) is 5.0\n"
     ]
    }
   ],
   "source": [
    "numb = [2, 3, 5, 7, 8]\n",
    "no = len(numb)\n",
    "summ = sum(numb)\n",
    "mean = summ / no\n",
    "print(\"The mean or average of all these numbers (\", numb, \") is\", str(mean))"
   ]
  },
  {
   "cell_type": "markdown",
   "id": "557bd190-3d2d-413f-a098-7fb150e25345",
   "metadata": {},
   "source": [
    "# 35. Create a program that generates Pascal's triangle up to a specified number of rows using list  comprehension."
   ]
  },
  {
   "cell_type": "code",
   "execution_count": 9,
   "id": "610eb65d-9f2a-4e93-bd30-cb657afd53d6",
   "metadata": {},
   "outputs": [
    {
     "name": "stdout",
     "output_type": "stream",
     "text": [
      "      1\n",
      "     1 1\n",
      "    1 2 1\n",
      "   1 3 3 1\n",
      "  1 4 6 4 1\n"
     ]
    }
   ],
   "source": [
    "\n",
    "\n",
    "# Print Pascal's Triangle in Python\n",
    " \n",
    "# input n\n",
    "n = 5\n",
    " \n",
    "for i in range(1, n+1):\n",
    "    for j in range(0, n-i+1):\n",
    "        print(' ', end='')\n",
    " \n",
    "    # first element is always 1\n",
    "    C = 1\n",
    "    for j in range(1, i+1):\n",
    " \n",
    "        # first value in a line is always 1\n",
    "        print(' ', C, sep='', end='')\n",
    " \n",
    "        # using Binomial Coefficient\n",
    "        C = C * (i - j) // j\n",
    "    print()"
   ]
  },
  {
   "cell_type": "markdown",
   "id": "16e571cb-cba6-40b0-8560-827b61307831",
   "metadata": {},
   "source": [
    " ## 36. Develop a program that calculates the sum of the digits of a factorial of numbers from 1 to 5 using list comprehension."
   ]
  },
  {
   "cell_type": "code",
   "execution_count": 22,
   "id": "21dff23b-324e-4cbc-a89e-a32e09257f30",
   "metadata": {},
   "outputs": [
    {
     "name": "stdout",
     "output_type": "stream",
     "text": [
      "27\n",
      "648\n"
     ]
    }
   ],
   "source": [
    "def sum_of_digits_factorial(n):\n",
    "    fact = 1\n",
    "    for i in range(2, n+1):\n",
    "        fact *= i\n",
    "    sum_of_digits = 0\n",
    "    for digit in str(fact):\n",
    "        sum_of_digits += int(digit)\n",
    "    return sum_of_digits\n",
    " \n",
    "# Example usage\n",
    "print(sum_of_digits_factorial(10)) \n",
    "print(sum_of_digits_factorial(100))\n"
   ]
  },
  {
   "cell_type": "markdown",
   "id": "481c8f8c-b606-4c22-94e3-85545f1c629f",
   "metadata": {},
   "source": [
    " # 37. Write a program that finds the longest word in a sentence using list comprehension."
   ]
  },
  {
   "cell_type": "code",
   "execution_count": 31,
   "id": "f17e43e6-63b2-4af7-9780-8d77b3cd722c",
   "metadata": {},
   "outputs": [
    {
     "name": "stdout",
     "output_type": "stream",
     "text": [
      "['statement']\n"
     ]
    }
   ],
   "source": [
    "\n",
    "s=\"This is my statement\"\n",
    "\n",
    "longest_word_length = max(len(word) for word in s.split())\n",
    "longest_word = [word for word in s.split() if len(word) == longest_word_length]\n",
    "\n",
    "print(longest_word)"
   ]
  },
  {
   "cell_type": "markdown",
   "id": "7a2fa0bf-ad00-4cb2-9aef-d2a500f064bf",
   "metadata": {},
   "source": [
    " # 38. Create a program that filters a list of strings to include only those with more than three vowels using list comprehension.\n",
    " "
   ]
  },
  {
   "cell_type": "code",
   "execution_count": 34,
   "id": "55a86e86-29dc-44e2-a663-fda165fa6752",
   "metadata": {},
   "outputs": [
    {
     "name": "stdout",
     "output_type": "stream",
     "text": [
      "['guava', 'pineapple', 'mandarin orange']\n"
     ]
    }
   ],
   "source": [
    "import re\n",
    "\n",
    "fruits = [\"mango\", \"kiwi\", \"strawberry\", \"guava\", \"pineapple\", \"mandarin orange\"]\n",
    "results = [i for i in fruits if len(re.sub(r\"[^aeiouAEIOU]\", \"\", i)) > 2]\n",
    "\n",
    "print(results)"
   ]
  },
  {
   "cell_type": "markdown",
   "id": "b74861b5-ebd1-4448-b1b4-f94f2056f38c",
   "metadata": {},
   "source": [
    " # 39. Develop a program that calculates the sum of the digits of numbers from 1 to 1000 using list comprehension."
   ]
  },
  {
   "cell_type": "code",
   "execution_count": 43,
   "id": "b030f3d2-d7f3-4091-9cb5-c608ece9bcc2",
   "metadata": {},
   "outputs": [
    {
     "name": "stdout",
     "output_type": "stream",
     "text": [
      "[0, 1, 2, 3, 4, 5, 6, 7, 8, 9, 20, 22, 24, 26, 28, 30, 32, 34, 36, 38, 40, 42, 44, 46, 48, 50, 52, 54, 56, 58, 60, 62, 64, 66, 68, 70, 72, 74, 76, 78, 80, 82, 84, 86, 88, 90, 92, 94, 96, 98, 100, 102, 104, 106, 108, 110, 112, 114, 116, 118, 120, 122, 124, 126, 128, 130, 132, 134, 136, 138, 140, 142, 144, 146, 148, 150, 152, 154, 156, 158, 160, 162, 164, 166, 168, 170, 172, 174, 176, 178, 180, 182, 184, 186, 188, 190, 192, 194, 196, 198, 300, 303, 306, 309, 312, 315, 318, 321, 324, 327, 330, 333, 336, 339, 342, 345, 348, 351, 354, 357, 360, 363, 366, 369, 372, 375, 378, 381, 384, 387, 390, 393, 396, 399, 402, 405, 408, 411, 414, 417, 420, 423, 426, 429, 432, 435, 438, 441, 444, 447, 450, 453, 456, 459, 462, 465, 468, 471, 474, 477, 480, 483, 486, 489, 492, 495, 498, 501, 504, 507, 510, 513, 516, 519, 522, 525, 528, 531, 534, 537, 540, 543, 546, 549, 552, 555, 558, 561, 564, 567, 570, 573, 576, 579, 582, 585, 588, 591, 594, 597, 600, 603, 606, 609, 612, 615, 618, 621, 624, 627, 630, 633, 636, 639, 642, 645, 648, 651, 654, 657, 660, 663, 666, 669, 672, 675, 678, 681, 684, 687, 690, 693, 696, 699, 702, 705, 708, 711, 714, 717, 720, 723, 726, 729, 732, 735, 738, 741, 744, 747, 750, 753, 756, 759, 762, 765, 768, 771, 774, 777, 780, 783, 786, 789, 792, 795, 798, 801, 804, 807, 810, 813, 816, 819, 822, 825, 828, 831, 834, 837, 840, 843, 846, 849, 852, 855, 858, 861, 864, 867, 870, 873, 876, 879, 882, 885, 888, 891, 894, 897, 900, 903, 906, 909, 912, 915, 918, 921, 924, 927, 930, 933, 936, 939, 942, 945, 948, 951, 954, 957, 960, 963, 966, 969, 972, 975, 978, 981, 984, 987, 990, 993, 996, 999, 1002, 1005, 1008, 1011, 1014, 1017, 1020, 1023, 1026, 1029, 1032, 1035, 1038, 1041, 1044, 1047, 1050, 1053, 1056, 1059, 1062, 1065, 1068, 1071, 1074, 1077, 1080, 1083, 1086, 1089, 1092, 1095, 1098, 1101, 1104, 1107, 1110, 1113, 1116, 1119, 1122, 1125, 1128, 1131, 1134, 1137, 1140, 1143, 1146, 1149, 1152, 1155, 1158, 1161, 1164, 1167, 1170, 1173, 1176, 1179, 1182, 1185, 1188, 1191, 1194, 1197, 1200, 1203, 1206, 1209, 1212, 1215, 1218, 1221, 1224, 1227, 1230, 1233, 1236, 1239, 1242, 1245, 1248, 1251, 1254, 1257, 1260, 1263, 1266, 1269, 1272, 1275, 1278, 1281, 1284, 1287, 1290, 1293, 1296, 1299, 1302, 1305, 1308, 1311, 1314, 1317, 1320, 1323, 1326, 1329, 1332, 1335, 1338, 1341, 1344, 1347, 1350, 1353, 1356, 1359, 1362, 1365, 1368, 1371, 1374, 1377, 1380, 1383, 1386, 1389, 1392, 1395, 1398, 1401, 1404, 1407, 1410, 1413, 1416, 1419, 1422, 1425, 1428, 1431, 1434, 1437, 1440, 1443, 1446, 1449, 1452, 1455, 1458, 1461, 1464, 1467, 1470, 1473, 1476, 1479, 1482, 1485, 1488, 1491, 1494, 1497, 1500, 1503, 1506, 1509, 1512, 1515, 1518, 1521, 1524, 1527, 1530, 1533, 1536, 1539, 1542, 1545, 1548, 1551, 1554, 1557, 1560, 1563, 1566, 1569, 1572, 1575, 1578, 1581, 1584, 1587, 1590, 1593, 1596, 1599, 1602, 1605, 1608, 1611, 1614, 1617, 1620, 1623, 1626, 1629, 1632, 1635, 1638, 1641, 1644, 1647, 1650, 1653, 1656, 1659, 1662, 1665, 1668, 1671, 1674, 1677, 1680, 1683, 1686, 1689, 1692, 1695, 1698, 1701, 1704, 1707, 1710, 1713, 1716, 1719, 1722, 1725, 1728, 1731, 1734, 1737, 1740, 1743, 1746, 1749, 1752, 1755, 1758, 1761, 1764, 1767, 1770, 1773, 1776, 1779, 1782, 1785, 1788, 1791, 1794, 1797, 1800, 1803, 1806, 1809, 1812, 1815, 1818, 1821, 1824, 1827, 1830, 1833, 1836, 1839, 1842, 1845, 1848, 1851, 1854, 1857, 1860, 1863, 1866, 1869, 1872, 1875, 1878, 1881, 1884, 1887, 1890, 1893, 1896, 1899, 1902, 1905, 1908, 1911, 1914, 1917, 1920, 1923, 1926, 1929, 1932, 1935, 1938, 1941, 1944, 1947, 1950, 1953, 1956, 1959, 1962, 1965, 1968, 1971, 1974, 1977, 1980, 1983, 1986, 1989, 1992, 1995, 1998, 2001, 2004, 2007, 2010, 2013, 2016, 2019, 2022, 2025, 2028, 2031, 2034, 2037, 2040, 2043, 2046, 2049, 2052, 2055, 2058, 2061, 2064, 2067, 2070, 2073, 2076, 2079, 2082, 2085, 2088, 2091, 2094, 2097, 2100, 2103, 2106, 2109, 2112, 2115, 2118, 2121, 2124, 2127, 2130, 2133, 2136, 2139, 2142, 2145, 2148, 2151, 2154, 2157, 2160, 2163, 2166, 2169, 2172, 2175, 2178, 2181, 2184, 2187, 2190, 2193, 2196, 2199, 2202, 2205, 2208, 2211, 2214, 2217, 2220, 2223, 2226, 2229, 2232, 2235, 2238, 2241, 2244, 2247, 2250, 2253, 2256, 2259, 2262, 2265, 2268, 2271, 2274, 2277, 2280, 2283, 2286, 2289, 2292, 2295, 2298, 2301, 2304, 2307, 2310, 2313, 2316, 2319, 2322, 2325, 2328, 2331, 2334, 2337, 2340, 2343, 2346, 2349, 2352, 2355, 2358, 2361, 2364, 2367, 2370, 2373, 2376, 2379, 2382, 2385, 2388, 2391, 2394, 2397, 2400, 2403, 2406, 2409, 2412, 2415, 2418, 2421, 2424, 2427, 2430, 2433, 2436, 2439, 2442, 2445, 2448, 2451, 2454, 2457, 2460, 2463, 2466, 2469, 2472, 2475, 2478, 2481, 2484, 2487, 2490, 2493, 2496, 2499, 2502, 2505, 2508, 2511, 2514, 2517, 2520, 2523, 2526, 2529, 2532, 2535, 2538, 2541, 2544, 2547, 2550, 2553, 2556, 2559, 2562, 2565, 2568, 2571, 2574, 2577, 2580, 2583, 2586, 2589, 2592, 2595, 2598, 2601, 2604, 2607, 2610, 2613, 2616, 2619, 2622, 2625, 2628, 2631, 2634, 2637, 2640, 2643, 2646, 2649, 2652, 2655, 2658, 2661, 2664, 2667, 2670, 2673, 2676, 2679, 2682, 2685, 2688, 2691, 2694, 2697, 2700, 2703, 2706, 2709, 2712, 2715, 2718, 2721, 2724, 2727, 2730, 2733, 2736, 2739, 2742, 2745, 2748, 2751, 2754, 2757, 2760, 2763, 2766, 2769, 2772, 2775, 2778, 2781, 2784, 2787, 2790, 2793, 2796, 2799, 2802, 2805, 2808, 2811, 2814, 2817, 2820, 2823, 2826, 2829, 2832, 2835, 2838, 2841, 2844, 2847, 2850, 2853, 2856, 2859, 2862, 2865, 2868, 2871, 2874, 2877, 2880, 2883, 2886, 2889, 2892, 2895, 2898, 2901, 2904, 2907, 2910, 2913, 2916, 2919, 2922, 2925, 2928, 2931, 2934, 2937, 2940, 2943, 2946, 2949, 2952, 2955, 2958, 2961, 2964, 2967, 2970, 2973, 2976, 2979, 2982, 2985, 2988, 2991, 2994, 2997]\n"
     ]
    }
   ],
   "source": [
    "sum_of_digits=[sum([int(x) for char in str(x)]) for x in range(1000)]\n",
    "\n",
    "\n",
    "print(sum_of_digits)"
   ]
  },
  {
   "cell_type": "markdown",
   "id": "41351451-d1f2-4b96-9d07-62d4aaa557bd",
   "metadata": {},
   "source": [
    "# 40. Write a program that generates a list of prime palindromic numbers using list comprehension."
   ]
  },
  {
   "cell_type": "code",
   "execution_count": 50,
   "id": "2a4231b1-73fa-4a44-a77f-00e7c47511f2",
   "metadata": {},
   "outputs": [
    {
     "name": "stdout",
     "output_type": "stream",
     "text": [
      "[3, 4, 5, 5, 5, 6, 6, 7, 7, 7, 7, 7, 8, 8, 8, 8, 9, 9, 9, 9, 9, 9, 10, 10, 10, 10, 10, 10]\n"
     ]
    }
   ],
   "source": [
    "prime_list = [x for x in range(1, 11) for y in range(2,x) if x % x == 0 and x % 1 == 0 and x % y != 0]\n",
    "\n",
    "print(prime_list)"
   ]
  },
  {
   "cell_type": "code",
   "execution_count": null,
   "id": "5b24cd1c-aa13-407a-8594-d08e171e71cb",
   "metadata": {},
   "outputs": [],
   "source": []
  }
 ],
 "metadata": {
  "kernelspec": {
   "display_name": "Python 3 (ipykernel)",
   "language": "python",
   "name": "python3"
  },
  "language_info": {
   "codemirror_mode": {
    "name": "ipython",
    "version": 3
   },
   "file_extension": ".py",
   "mimetype": "text/x-python",
   "name": "python",
   "nbconvert_exporter": "python",
   "pygments_lexer": "ipython3",
   "version": "3.10.8"
  }
 },
 "nbformat": 4,
 "nbformat_minor": 5
}
